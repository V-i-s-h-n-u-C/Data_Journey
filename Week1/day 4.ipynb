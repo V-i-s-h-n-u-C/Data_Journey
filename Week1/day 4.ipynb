{
 "cells": [
  {
   "cell_type": "code",
   "execution_count": 1,
   "id": "525b1576",
   "metadata": {},
   "outputs": [
    {
     "ename": "NameError",
     "evalue": "name 'pd' is not defined",
     "output_type": "error",
     "traceback": [
      "\u001b[1;31m---------------------------------------------------------------------------\u001b[0m",
      "\u001b[1;31mNameError\u001b[0m                                 Traceback (most recent call last)",
      "Cell \u001b[1;32mIn[1], line 1\u001b[0m\n\u001b[1;32m----> 1\u001b[0m df\u001b[38;5;241m=\u001b[39m pd\u001b[38;5;241m.\u001b[39mread_csv(\u001b[38;5;124m\"\u001b[39m\u001b[38;5;124mMOCK_DATA.csv\u001b[39m\u001b[38;5;124m\"\u001b[39m)\n",
      "\u001b[1;31mNameError\u001b[0m: name 'pd' is not defined"
     ]
    }
   ],
   "source": []
  },
  {
   "cell_type": "code",
   "execution_count": 2,
   "id": "209197eb",
   "metadata": {},
   "outputs": [],
   "source": [
    "import pandas as pd\n",
    "import numpy as np"
   ]
  },
  {
   "cell_type": "code",
   "execution_count": 3,
   "id": "878b97cd",
   "metadata": {},
   "outputs": [],
   "source": [
    "df= pd.read_csv(\"MOCK_DATA.csv\")"
   ]
  },
  {
   "cell_type": "code",
   "execution_count": 4,
   "id": "a78e8bc5",
   "metadata": {},
   "outputs": [
    {
     "data": {
      "text/html": [
       "<div>\n",
       "<style scoped>\n",
       "    .dataframe tbody tr th:only-of-type {\n",
       "        vertical-align: middle;\n",
       "    }\n",
       "\n",
       "    .dataframe tbody tr th {\n",
       "        vertical-align: top;\n",
       "    }\n",
       "\n",
       "    .dataframe thead th {\n",
       "        text-align: right;\n",
       "    }\n",
       "</style>\n",
       "<table border=\"1\" class=\"dataframe\">\n",
       "  <thead>\n",
       "    <tr style=\"text-align: right;\">\n",
       "      <th></th>\n",
       "      <th>bug_id</th>\n",
       "      <th>module</th>\n",
       "      <th>severity</th>\n",
       "      <th>status</th>\n",
       "      <th>reported_date</th>\n",
       "      <th>resolved_date</th>\n",
       "      <th>assigned_to</th>\n",
       "    </tr>\n",
       "  </thead>\n",
       "  <tbody>\n",
       "    <tr>\n",
       "      <th>0</th>\n",
       "      <td>1</td>\n",
       "      <td>Login</td>\n",
       "      <td>High</td>\n",
       "      <td>In Progress</td>\n",
       "      <td>2025-01-04</td>\n",
       "      <td>2025-01-29</td>\n",
       "      <td>David</td>\n",
       "    </tr>\n",
       "    <tr>\n",
       "      <th>1</th>\n",
       "      <td>2</td>\n",
       "      <td>Payment</td>\n",
       "      <td>Critical</td>\n",
       "      <td>In Progress</td>\n",
       "      <td>2025-06-03</td>\n",
       "      <td>2025-06-26</td>\n",
       "      <td>Fred</td>\n",
       "    </tr>\n",
       "    <tr>\n",
       "      <th>2</th>\n",
       "      <td>3</td>\n",
       "      <td>Notifications</td>\n",
       "      <td>High</td>\n",
       "      <td>Closed</td>\n",
       "      <td>2025-01-12</td>\n",
       "      <td>2025-01-13</td>\n",
       "      <td>Charlie</td>\n",
       "    </tr>\n",
       "    <tr>\n",
       "      <th>3</th>\n",
       "      <td>4</td>\n",
       "      <td>Dashboard</td>\n",
       "      <td>Low</td>\n",
       "      <td>In Progress</td>\n",
       "      <td>2024-12-22</td>\n",
       "      <td>2025-01-08</td>\n",
       "      <td>Alice</td>\n",
       "    </tr>\n",
       "    <tr>\n",
       "      <th>4</th>\n",
       "      <td>5</td>\n",
       "      <td>Login</td>\n",
       "      <td>High</td>\n",
       "      <td>Resolved</td>\n",
       "      <td>2024-12-15</td>\n",
       "      <td>2025-01-11</td>\n",
       "      <td>Bob</td>\n",
       "    </tr>\n",
       "    <tr>\n",
       "      <th>...</th>\n",
       "      <td>...</td>\n",
       "      <td>...</td>\n",
       "      <td>...</td>\n",
       "      <td>...</td>\n",
       "      <td>...</td>\n",
       "      <td>...</td>\n",
       "      <td>...</td>\n",
       "    </tr>\n",
       "    <tr>\n",
       "      <th>295</th>\n",
       "      <td>296</td>\n",
       "      <td>Payment</td>\n",
       "      <td>Medium</td>\n",
       "      <td>In Progress</td>\n",
       "      <td>2025-08-31</td>\n",
       "      <td>2025-09-20</td>\n",
       "      <td>Gizel</td>\n",
       "    </tr>\n",
       "    <tr>\n",
       "      <th>296</th>\n",
       "      <td>297</td>\n",
       "      <td>Payment</td>\n",
       "      <td>High</td>\n",
       "      <td>Closed</td>\n",
       "      <td>2025-10-04</td>\n",
       "      <td>2025-10-26</td>\n",
       "      <td>Bob</td>\n",
       "    </tr>\n",
       "    <tr>\n",
       "      <th>297</th>\n",
       "      <td>298</td>\n",
       "      <td>Dashboard</td>\n",
       "      <td>Critical</td>\n",
       "      <td>Resolved</td>\n",
       "      <td>2025-05-19</td>\n",
       "      <td>2025-06-01</td>\n",
       "      <td>Alice</td>\n",
       "    </tr>\n",
       "    <tr>\n",
       "      <th>298</th>\n",
       "      <td>299</td>\n",
       "      <td>Payment</td>\n",
       "      <td>Medium</td>\n",
       "      <td>Open</td>\n",
       "      <td>2024-11-15</td>\n",
       "      <td>2024-11-29</td>\n",
       "      <td>Bob</td>\n",
       "    </tr>\n",
       "    <tr>\n",
       "      <th>299</th>\n",
       "      <td>300</td>\n",
       "      <td>Notifications</td>\n",
       "      <td>Medium</td>\n",
       "      <td>Closed</td>\n",
       "      <td>2025-04-11</td>\n",
       "      <td>2025-04-24</td>\n",
       "      <td>Gizel</td>\n",
       "    </tr>\n",
       "  </tbody>\n",
       "</table>\n",
       "<p>300 rows × 7 columns</p>\n",
       "</div>"
      ],
      "text/plain": [
       "     bug_id         module  severity       status reported_date resolved_date  \\\n",
       "0         1          Login      High  In Progress    2025-01-04    2025-01-29   \n",
       "1         2        Payment  Critical  In Progress    2025-06-03    2025-06-26   \n",
       "2         3  Notifications      High       Closed    2025-01-12    2025-01-13   \n",
       "3         4      Dashboard       Low  In Progress    2024-12-22    2025-01-08   \n",
       "4         5          Login      High     Resolved    2024-12-15    2025-01-11   \n",
       "..      ...            ...       ...          ...           ...           ...   \n",
       "295     296        Payment    Medium  In Progress    2025-08-31    2025-09-20   \n",
       "296     297        Payment      High       Closed    2025-10-04    2025-10-26   \n",
       "297     298      Dashboard  Critical     Resolved    2025-05-19    2025-06-01   \n",
       "298     299        Payment    Medium         Open    2024-11-15    2024-11-29   \n",
       "299     300  Notifications    Medium       Closed    2025-04-11    2025-04-24   \n",
       "\n",
       "    assigned_to  \n",
       "0         David  \n",
       "1          Fred  \n",
       "2       Charlie  \n",
       "3         Alice  \n",
       "4           Bob  \n",
       "..          ...  \n",
       "295       Gizel  \n",
       "296         Bob  \n",
       "297       Alice  \n",
       "298         Bob  \n",
       "299       Gizel  \n",
       "\n",
       "[300 rows x 7 columns]"
      ]
     },
     "execution_count": 4,
     "metadata": {},
     "output_type": "execute_result"
    }
   ],
   "source": [
    "df"
   ]
  },
  {
   "cell_type": "code",
   "execution_count": 6,
   "id": "8d37def9",
   "metadata": {},
   "outputs": [
    {
     "name": "stdout",
     "output_type": "stream",
     "text": [
      "bug_id           0\n",
      "module           0\n",
      "severity         0\n",
      "status           0\n",
      "reported_date    0\n",
      "resolved_date    0\n",
      "assigned_to      0\n",
      "dtype: int64\n"
     ]
    }
   ],
   "source": [
    "print(df.isnull().sum())"
   ]
  },
  {
   "cell_type": "code",
   "execution_count": 8,
   "id": "e396b8e8",
   "metadata": {},
   "outputs": [
    {
     "name": "stdout",
     "output_type": "stream",
     "text": [
      "0\n"
     ]
    }
   ],
   "source": [
    "print(df.duplicated().sum())"
   ]
  },
  {
   "cell_type": "code",
   "execution_count": 11,
   "id": "69a5cfd5",
   "metadata": {},
   "outputs": [],
   "source": [
    "df[\"reported_date\"]= pd.to_datetime(df[\"reported_date\"])"
   ]
  },
  {
   "cell_type": "code",
   "execution_count": 12,
   "id": "81de2dbe",
   "metadata": {},
   "outputs": [
    {
     "name": "stdout",
     "output_type": "stream",
     "text": [
      "<class 'pandas.core.frame.DataFrame'>\n",
      "RangeIndex: 300 entries, 0 to 299\n",
      "Data columns (total 7 columns):\n",
      " #   Column         Non-Null Count  Dtype         \n",
      "---  ------         --------------  -----         \n",
      " 0   bug_id         300 non-null    int64         \n",
      " 1   module         300 non-null    object        \n",
      " 2   severity       300 non-null    object        \n",
      " 3   status         300 non-null    object        \n",
      " 4   reported_date  300 non-null    datetime64[ns]\n",
      " 5   resolved_date  300 non-null    object        \n",
      " 6   assigned_to    300 non-null    object        \n",
      "dtypes: datetime64[ns](1), int64(1), object(5)\n",
      "memory usage: 16.5+ KB\n"
     ]
    }
   ],
   "source": [
    "df.info()"
   ]
  },
  {
   "cell_type": "code",
   "execution_count": 13,
   "id": "0fbe786e",
   "metadata": {},
   "outputs": [],
   "source": [
    "df[\"resolved_date\"]= pd.to_datetime(df[\"resolved_date\"])"
   ]
  },
  {
   "cell_type": "code",
   "execution_count": 14,
   "id": "18e66ab0",
   "metadata": {},
   "outputs": [
    {
     "name": "stdout",
     "output_type": "stream",
     "text": [
      "<class 'pandas.core.frame.DataFrame'>\n",
      "RangeIndex: 300 entries, 0 to 299\n",
      "Data columns (total 7 columns):\n",
      " #   Column         Non-Null Count  Dtype         \n",
      "---  ------         --------------  -----         \n",
      " 0   bug_id         300 non-null    int64         \n",
      " 1   module         300 non-null    object        \n",
      " 2   severity       300 non-null    object        \n",
      " 3   status         300 non-null    object        \n",
      " 4   reported_date  300 non-null    datetime64[ns]\n",
      " 5   resolved_date  300 non-null    datetime64[ns]\n",
      " 6   assigned_to    300 non-null    object        \n",
      "dtypes: datetime64[ns](2), int64(1), object(4)\n",
      "memory usage: 16.5+ KB\n"
     ]
    }
   ],
   "source": [
    "df.info()"
   ]
  },
  {
   "cell_type": "code",
   "execution_count": 26,
   "id": "9ff0d5a6",
   "metadata": {},
   "outputs": [],
   "source": [
    "df[\"resolution_days\"] = df[\"resolved_date\"]-df[\"reported_date\"]"
   ]
  },
  {
   "cell_type": "code",
   "execution_count": 28,
   "id": "3e020e35",
   "metadata": {},
   "outputs": [
    {
     "data": {
      "text/html": [
       "<div>\n",
       "<style scoped>\n",
       "    .dataframe tbody tr th:only-of-type {\n",
       "        vertical-align: middle;\n",
       "    }\n",
       "\n",
       "    .dataframe tbody tr th {\n",
       "        vertical-align: top;\n",
       "    }\n",
       "\n",
       "    .dataframe thead th {\n",
       "        text-align: right;\n",
       "    }\n",
       "</style>\n",
       "<table border=\"1\" class=\"dataframe\">\n",
       "  <thead>\n",
       "    <tr style=\"text-align: right;\">\n",
       "      <th></th>\n",
       "      <th>bug_id</th>\n",
       "      <th>module</th>\n",
       "      <th>severity</th>\n",
       "      <th>status</th>\n",
       "      <th>reported_date</th>\n",
       "      <th>resolved_date</th>\n",
       "      <th>assigned_to</th>\n",
       "      <th>resolution_days</th>\n",
       "    </tr>\n",
       "  </thead>\n",
       "  <tbody>\n",
       "    <tr>\n",
       "      <th>0</th>\n",
       "      <td>1</td>\n",
       "      <td>Login</td>\n",
       "      <td>High</td>\n",
       "      <td>In Progress</td>\n",
       "      <td>2025-01-04</td>\n",
       "      <td>2025-01-29</td>\n",
       "      <td>David</td>\n",
       "      <td>25 days</td>\n",
       "    </tr>\n",
       "    <tr>\n",
       "      <th>1</th>\n",
       "      <td>2</td>\n",
       "      <td>Payment</td>\n",
       "      <td>Critical</td>\n",
       "      <td>In Progress</td>\n",
       "      <td>2025-06-03</td>\n",
       "      <td>2025-06-26</td>\n",
       "      <td>Fred</td>\n",
       "      <td>23 days</td>\n",
       "    </tr>\n",
       "    <tr>\n",
       "      <th>2</th>\n",
       "      <td>3</td>\n",
       "      <td>Notifications</td>\n",
       "      <td>High</td>\n",
       "      <td>Closed</td>\n",
       "      <td>2025-01-12</td>\n",
       "      <td>2025-01-13</td>\n",
       "      <td>Charlie</td>\n",
       "      <td>1 days</td>\n",
       "    </tr>\n",
       "    <tr>\n",
       "      <th>3</th>\n",
       "      <td>4</td>\n",
       "      <td>Dashboard</td>\n",
       "      <td>Low</td>\n",
       "      <td>In Progress</td>\n",
       "      <td>2024-12-22</td>\n",
       "      <td>2025-01-08</td>\n",
       "      <td>Alice</td>\n",
       "      <td>17 days</td>\n",
       "    </tr>\n",
       "    <tr>\n",
       "      <th>4</th>\n",
       "      <td>5</td>\n",
       "      <td>Login</td>\n",
       "      <td>High</td>\n",
       "      <td>Resolved</td>\n",
       "      <td>2024-12-15</td>\n",
       "      <td>2025-01-11</td>\n",
       "      <td>Bob</td>\n",
       "      <td>27 days</td>\n",
       "    </tr>\n",
       "    <tr>\n",
       "      <th>...</th>\n",
       "      <td>...</td>\n",
       "      <td>...</td>\n",
       "      <td>...</td>\n",
       "      <td>...</td>\n",
       "      <td>...</td>\n",
       "      <td>...</td>\n",
       "      <td>...</td>\n",
       "      <td>...</td>\n",
       "    </tr>\n",
       "    <tr>\n",
       "      <th>295</th>\n",
       "      <td>296</td>\n",
       "      <td>Payment</td>\n",
       "      <td>Medium</td>\n",
       "      <td>In Progress</td>\n",
       "      <td>2025-08-31</td>\n",
       "      <td>2025-09-20</td>\n",
       "      <td>Gizel</td>\n",
       "      <td>20 days</td>\n",
       "    </tr>\n",
       "    <tr>\n",
       "      <th>296</th>\n",
       "      <td>297</td>\n",
       "      <td>Payment</td>\n",
       "      <td>High</td>\n",
       "      <td>Closed</td>\n",
       "      <td>2025-10-04</td>\n",
       "      <td>2025-10-26</td>\n",
       "      <td>Bob</td>\n",
       "      <td>22 days</td>\n",
       "    </tr>\n",
       "    <tr>\n",
       "      <th>297</th>\n",
       "      <td>298</td>\n",
       "      <td>Dashboard</td>\n",
       "      <td>Critical</td>\n",
       "      <td>Resolved</td>\n",
       "      <td>2025-05-19</td>\n",
       "      <td>2025-06-01</td>\n",
       "      <td>Alice</td>\n",
       "      <td>13 days</td>\n",
       "    </tr>\n",
       "    <tr>\n",
       "      <th>298</th>\n",
       "      <td>299</td>\n",
       "      <td>Payment</td>\n",
       "      <td>Medium</td>\n",
       "      <td>Open</td>\n",
       "      <td>2024-11-15</td>\n",
       "      <td>2024-11-29</td>\n",
       "      <td>Bob</td>\n",
       "      <td>14 days</td>\n",
       "    </tr>\n",
       "    <tr>\n",
       "      <th>299</th>\n",
       "      <td>300</td>\n",
       "      <td>Notifications</td>\n",
       "      <td>Medium</td>\n",
       "      <td>Closed</td>\n",
       "      <td>2025-04-11</td>\n",
       "      <td>2025-04-24</td>\n",
       "      <td>Gizel</td>\n",
       "      <td>13 days</td>\n",
       "    </tr>\n",
       "  </tbody>\n",
       "</table>\n",
       "<p>300 rows × 8 columns</p>\n",
       "</div>"
      ],
      "text/plain": [
       "     bug_id         module  severity       status reported_date resolved_date  \\\n",
       "0         1          Login      High  In Progress    2025-01-04    2025-01-29   \n",
       "1         2        Payment  Critical  In Progress    2025-06-03    2025-06-26   \n",
       "2         3  Notifications      High       Closed    2025-01-12    2025-01-13   \n",
       "3         4      Dashboard       Low  In Progress    2024-12-22    2025-01-08   \n",
       "4         5          Login      High     Resolved    2024-12-15    2025-01-11   \n",
       "..      ...            ...       ...          ...           ...           ...   \n",
       "295     296        Payment    Medium  In Progress    2025-08-31    2025-09-20   \n",
       "296     297        Payment      High       Closed    2025-10-04    2025-10-26   \n",
       "297     298      Dashboard  Critical     Resolved    2025-05-19    2025-06-01   \n",
       "298     299        Payment    Medium         Open    2024-11-15    2024-11-29   \n",
       "299     300  Notifications    Medium       Closed    2025-04-11    2025-04-24   \n",
       "\n",
       "    assigned_to resolution_days  \n",
       "0         David         25 days  \n",
       "1          Fred         23 days  \n",
       "2       Charlie          1 days  \n",
       "3         Alice         17 days  \n",
       "4           Bob         27 days  \n",
       "..          ...             ...  \n",
       "295       Gizel         20 days  \n",
       "296         Bob         22 days  \n",
       "297       Alice         13 days  \n",
       "298         Bob         14 days  \n",
       "299       Gizel         13 days  \n",
       "\n",
       "[300 rows x 8 columns]"
      ]
     },
     "execution_count": 28,
     "metadata": {},
     "output_type": "execute_result"
    }
   ],
   "source": [
    "df"
   ]
  },
  {
   "cell_type": "code",
   "execution_count": 41,
   "id": "73001565",
   "metadata": {},
   "outputs": [
    {
     "data": {
      "image/png": "[encoded data removed]",
      "text/plain": [
       "<Figure size 640x480 with 1 Axes>"
      ]
     },
     "metadata": {},
     "output_type": "display_data"
    }
   ],
   "source": [
    "import seaborn as sns\n",
    "import matplotlib.pyplot as plt\n",
    "sns.countplot(y=\"module\", data=df, order=df[\"module\"].value_counts().index)\n",
    "plt.title(\"Bugs per module\")\n",
    "plt.show()"
   ]
  },
  {
   "cell_type": "code",
   "execution_count": 59,
   "id": "02812fc4",
   "metadata": {},
   "outputs": [
    {
     "data": {
      "image/png": "[encoded data removed]",
      "text/plain": [
       "<Figure size 640x480 with 1 Axes>"
      ]
     },
     "metadata": {},
     "output_type": "display_data"
    }
   ],
   "source": [
    "sns.countplot(x=\"severity\", data=df, palette=\"hot\")\n",
    "plt.title(\"Severity Distribution\")\n",
    "plt.show()"
   ]
  },
  {
   "cell_type": "code",
   "execution_count": 70,
   "id": "c662b1ad",
   "metadata": {},
   "outputs": [
    {
     "ename": "TypeError",
     "evalue": "Neither the `x` nor `y` variable appears to be numeric.",
     "output_type": "error",
     "traceback": [
      "\u001b[1;31m---------------------------------------------------------------------------\u001b[0m",
      "\u001b[1;31mTypeError\u001b[0m                                 Traceback (most recent call last)",
      "Cell \u001b[1;32mIn[70], line 2\u001b[0m\n\u001b[0;32m      1\u001b[0m avg_res_time\u001b[38;5;241m=\u001b[39mdf\u001b[38;5;241m.\u001b[39mgroupby(\u001b[38;5;124m'\u001b[39m\u001b[38;5;124mmodule\u001b[39m\u001b[38;5;124m'\u001b[39m)[\u001b[38;5;124m'\u001b[39m\u001b[38;5;124mresolution_days\u001b[39m\u001b[38;5;124m'\u001b[39m]\u001b[38;5;241m.\u001b[39mmean()\u001b[38;5;241m.\u001b[39mreset_index()\n\u001b[1;32m----> 2\u001b[0m sns\u001b[38;5;241m.\u001b[39mbarplot(x\u001b[38;5;241m=\u001b[39m\u001b[38;5;124m\"\u001b[39m\u001b[38;5;124mmodule\u001b[39m\u001b[38;5;124m\"\u001b[39m, y\u001b[38;5;241m=\u001b[39m\u001b[38;5;124m\"\u001b[39m\u001b[38;5;124mresolution_days\u001b[39m\u001b[38;5;124m\"\u001b[39m, data\u001b[38;5;241m=\u001b[39mavg_res_time, palette\u001b[38;5;241m=\u001b[39m\u001b[38;5;124m\"\u001b[39m\u001b[38;5;124mhot\u001b[39m\u001b[38;5;124m\"\u001b[39m)\n\u001b[0;32m      3\u001b[0m plt\u001b[38;5;241m.\u001b[39mtitle(\u001b[38;5;124m\"\u001b[39m\u001b[38;5;124mAvg Resolution Time by Module\u001b[39m\u001b[38;5;124m\"\u001b[39m)\n\u001b[0;32m      4\u001b[0m plt\u001b[38;5;241m.\u001b[39mshow()\n",
      "File \u001b[1;32mC:\\ProgramData\\anaconda3\\Lib\\site-packages\\seaborn\\categorical.py:2755\u001b[0m, in \u001b[0;36mbarplot\u001b[1;34m(data, x, y, hue, order, hue_order, estimator, errorbar, n_boot, units, seed, orient, color, palette, saturation, width, errcolor, errwidth, capsize, dodge, ci, ax, **kwargs)\u001b[0m\n\u001b[0;32m   2752\u001b[0m \u001b[38;5;28;01mif\u001b[39;00m estimator \u001b[38;5;129;01mis\u001b[39;00m \u001b[38;5;28mlen\u001b[39m:\n\u001b[0;32m   2753\u001b[0m     estimator \u001b[38;5;241m=\u001b[39m \u001b[38;5;124m\"\u001b[39m\u001b[38;5;124msize\u001b[39m\u001b[38;5;124m\"\u001b[39m\n\u001b[1;32m-> 2755\u001b[0m plotter \u001b[38;5;241m=\u001b[39m _BarPlotter(x, y, hue, data, order, hue_order,\n\u001b[0;32m   2756\u001b[0m                       estimator, errorbar, n_boot, units, seed,\n\u001b[0;32m   2757\u001b[0m                       orient, color, palette, saturation,\n\u001b[0;32m   2758\u001b[0m                       width, errcolor, errwidth, capsize, dodge)\n\u001b[0;32m   2760\u001b[0m \u001b[38;5;28;01mif\u001b[39;00m ax \u001b[38;5;129;01mis\u001b[39;00m \u001b[38;5;28;01mNone\u001b[39;00m:\n\u001b[0;32m   2761\u001b[0m     ax \u001b[38;5;241m=\u001b[39m plt\u001b[38;5;241m.\u001b[39mgca()\n",
      "File \u001b[1;32mC:\\ProgramData\\anaconda3\\Lib\\site-packages\\seaborn\\categorical.py:1530\u001b[0m, in \u001b[0;36m_BarPlotter.__init__\u001b[1;34m(self, x, y, hue, data, order, hue_order, estimator, errorbar, n_boot, units, seed, orient, color, palette, saturation, width, errcolor, errwidth, capsize, dodge)\u001b[0m\n\u001b[0;32m   1525\u001b[0m \u001b[38;5;28;01mdef\u001b[39;00m \u001b[38;5;21m__init__\u001b[39m(\u001b[38;5;28mself\u001b[39m, x, y, hue, data, order, hue_order,\n\u001b[0;32m   1526\u001b[0m              estimator, errorbar, n_boot, units, seed,\n\u001b[0;32m   1527\u001b[0m              orient, color, palette, saturation, width,\n\u001b[0;32m   1528\u001b[0m              errcolor, errwidth, capsize, dodge):\n\u001b[0;32m   1529\u001b[0m \u001b[38;5;250m    \u001b[39m\u001b[38;5;124;03m\"\"\"Initialize the plotter.\"\"\"\u001b[39;00m\n\u001b[1;32m-> 1530\u001b[0m     \u001b[38;5;28mself\u001b[39m\u001b[38;5;241m.\u001b[39mestablish_variables(x, y, hue, data, orient,\n\u001b[0;32m   1531\u001b[0m                              order, hue_order, units)\n\u001b[0;32m   1532\u001b[0m     \u001b[38;5;28mself\u001b[39m\u001b[38;5;241m.\u001b[39mestablish_colors(color, palette, saturation)\n\u001b[0;32m   1533\u001b[0m     \u001b[38;5;28mself\u001b[39m\u001b[38;5;241m.\u001b[39mestimate_statistic(estimator, errorbar, n_boot, seed)\n",
      "File \u001b[1;32mC:\\ProgramData\\anaconda3\\Lib\\site-packages\\seaborn\\categorical.py:544\u001b[0m, in \u001b[0;36m_CategoricalPlotter.establish_variables\u001b[1;34m(self, x, y, hue, data, orient, order, hue_order, units)\u001b[0m\n\u001b[0;32m    541\u001b[0m         \u001b[38;5;28;01mraise\u001b[39;00m \u001b[38;5;167;01mValueError\u001b[39;00m(err)\n\u001b[0;32m    543\u001b[0m \u001b[38;5;66;03m# Figure out the plotting orientation\u001b[39;00m\n\u001b[1;32m--> 544\u001b[0m orient \u001b[38;5;241m=\u001b[39m infer_orient(\n\u001b[0;32m    545\u001b[0m     x, y, orient, require_numeric\u001b[38;5;241m=\u001b[39m\u001b[38;5;28mself\u001b[39m\u001b[38;5;241m.\u001b[39mrequire_numeric\n\u001b[0;32m    546\u001b[0m )\n\u001b[0;32m    548\u001b[0m \u001b[38;5;66;03m# Option 2a:\u001b[39;00m\n\u001b[0;32m    549\u001b[0m \u001b[38;5;66;03m# We are plotting a single set of data\u001b[39;00m\n\u001b[0;32m    550\u001b[0m \u001b[38;5;66;03m# ------------------------------------\u001b[39;00m\n\u001b[0;32m    551\u001b[0m \u001b[38;5;28;01mif\u001b[39;00m x \u001b[38;5;129;01mis\u001b[39;00m \u001b[38;5;28;01mNone\u001b[39;00m \u001b[38;5;129;01mor\u001b[39;00m y \u001b[38;5;129;01mis\u001b[39;00m \u001b[38;5;28;01mNone\u001b[39;00m:\n\u001b[0;32m    552\u001b[0m \n\u001b[0;32m    553\u001b[0m     \u001b[38;5;66;03m# Determine where the data are\u001b[39;00m\n",
      "File \u001b[1;32mC:\\ProgramData\\anaconda3\\Lib\\site-packages\\seaborn\\_oldcore.py:1632\u001b[0m, in \u001b[0;36minfer_orient\u001b[1;34m(x, y, orient, require_numeric)\u001b[0m\n\u001b[0;32m   1630\u001b[0m \u001b[38;5;28;01melif\u001b[39;00m require_numeric \u001b[38;5;129;01mand\u001b[39;00m \u001b[38;5;124m\"\u001b[39m\u001b[38;5;124mnumeric\u001b[39m\u001b[38;5;124m\"\u001b[39m \u001b[38;5;129;01mnot\u001b[39;00m \u001b[38;5;129;01min\u001b[39;00m (x_type, y_type):\n\u001b[0;32m   1631\u001b[0m     err \u001b[38;5;241m=\u001b[39m \u001b[38;5;124m\"\u001b[39m\u001b[38;5;124mNeither the `x` nor `y` variable appears to be numeric.\u001b[39m\u001b[38;5;124m\"\u001b[39m\n\u001b[1;32m-> 1632\u001b[0m     \u001b[38;5;28;01mraise\u001b[39;00m \u001b[38;5;167;01mTypeError\u001b[39;00m(err)\n\u001b[0;32m   1634\u001b[0m \u001b[38;5;28;01melse\u001b[39;00m:\n\u001b[0;32m   1635\u001b[0m     \u001b[38;5;28;01mreturn\u001b[39;00m \u001b[38;5;124m\"\u001b[39m\u001b[38;5;124mv\u001b[39m\u001b[38;5;124m\"\u001b[39m\n",
      "\u001b[1;31mTypeError\u001b[0m: Neither the `x` nor `y` variable appears to be numeric."
     ]
    }
   ],
   "source": [
    "\n",
    "avg_res_time=df.groupby('module')['resolution_days'].mean().reset_index()\n",
    "sns.barplot(x=\"module\", y=\"resolution_days\", data=avg_res_time, palette=\"hot\")\n",
    "plt.title(\"Avg Resolution Time by Module\")\n",
    "plt.show()"
   ]
  },
  {
   "cell_type": "code",
   "execution_count": 73,
   "id": "4ff859a0",
   "metadata": {},
   "outputs": [
    {
     "data": {
      "text/plain": [
       "dtype('<m8[ns]')"
      ]
     },
     "execution_count": 73,
     "metadata": {},
     "output_type": "execute_result"
    }
   ],
   "source": [
    "df[\"resolution_days\"].dtype"
   ]
  },
  {
   "cell_type": "code",
   "execution_count": 74,
   "id": "d7a846e2",
   "metadata": {},
   "outputs": [],
   "source": [
    "df[\"resolution_days\"]=df[\"resolution_days\"].dt.days"
   ]
  },
  {
   "cell_type": "code",
   "execution_count": 75,
   "id": "367bc3af",
   "metadata": {},
   "outputs": [
    {
     "data": {
      "text/plain": [
       "dtype('int64')"
      ]
     },
     "execution_count": 75,
     "metadata": {},
     "output_type": "execute_result"
    }
   ],
   "source": [
    "df[\"resolution_days\"].dtype"
   ]
  },
  {
   "cell_type": "code",
   "execution_count": 91,
   "id": "3b1738dd",
   "metadata": {},
   "outputs": [
    {
     "data": {
      "image/png": "[encoded data removed]",
      "text/plain": [
       "<Figure size 640x480 with 1 Axes>"
      ]
     },
     "metadata": {},
     "output_type": "display_data"
    }
   ],
   "source": [
    "avg_res_time=df.groupby('module')['resolution_days'].mean().reset_index()\n",
    "sns.barplot(x=\"module\", y=\"resolution_days\", data=avg_res_time, palette='coolwarm')\n",
    "plt.title(\"Avg Resolution Time by Module\")\n",
    "plt.xticks(rotation=45)\n",
    "plt.show()"
   ]
  },
  {
   "cell_type": "code",
   "execution_count": 98,
   "id": "36f0b987",
   "metadata": {},
   "outputs": [
    {
     "data": {
      "image/png": "[encoded data removed]",
      "text/plain": [
       "<Figure size 640x480 with 2 Axes>"
      ]
     },
     "metadata": {},
     "output_type": "display_data"
    }
   ],
   "source": [
    "sns.heatmap(df.corr(numeric_only=True), annot=True, cmap = \"Blues\")\n",
    "plt.title(\"correlation heatmap\")\n",
    "plt.show()"
   ]
  },
  {
   "cell_type": "code",
   "execution_count": null,
   "id": "0b8eae26",
   "metadata": {},
   "outputs": [],
   "source": []
  }
 ],
 "metadata": {
  "kernelspec": {
   "display_name": "Python 3 (ipykernel)",
   "language": "python",
   "name": "python3"
  },
  "language_info": {
   "codemirror_mode": {
    "name": "ipython",
    "version": 3
   },
   "file_extension": ".py",
   "mimetype": "text/x-python",
   "name": "python",
   "nbconvert_exporter": "python",
   "pygments_lexer": "ipython3",
   "version": "3.11.5"
  }
 },
 "nbformat": 4,
 "nbformat_minor": 5
}
