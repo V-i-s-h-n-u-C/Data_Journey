{
 "cells": [
  {
   "cell_type": "code",
   "execution_count": 1,
   "id": "1c71b816",
   "metadata": {},
   "outputs": [
    {
     "name": "stdout",
     "output_type": "stream",
     "text": [
      "Defaulting to user installation because normal site-packages is not writeable\n",
      "Requirement already satisfied: numpy in c:\\programdata\\anaconda3\\lib\\site-packages (1.24.3)\n",
      "Requirement already satisfied: pandas in c:\\programdata\\anaconda3\\lib\\site-packages (2.0.3)\n",
      "Requirement already satisfied: matplotlib in c:\\programdata\\anaconda3\\lib\\site-packages (3.7.2)\n",
      "Requirement already satisfied: seaborn in c:\\programdata\\anaconda3\\lib\\site-packages (0.12.2)\n",
      "Requirement already satisfied: python-dateutil>=2.8.2 in c:\\programdata\\anaconda3\\lib\\site-packages (from pandas) (2.8.2)\n",
      "Requirement already satisfied: pytz>=2020.1 in c:\\programdata\\anaconda3\\lib\\site-packages (from pandas) (2023.3.post1)\n",
      "Requirement already satisfied: tzdata>=2022.1 in c:\\programdata\\anaconda3\\lib\\site-packages (from pandas) (2023.3)\n",
      "Requirement already satisfied: contourpy>=1.0.1 in c:\\programdata\\anaconda3\\lib\\site-packages (from matplotlib) (1.0.5)\n",
      "Requirement already satisfied: cycler>=0.10 in c:\\programdata\\anaconda3\\lib\\site-packages (from matplotlib) (0.11.0)\n",
      "Requirement already satisfied: fonttools>=4.22.0 in c:\\programdata\\anaconda3\\lib\\site-packages (from matplotlib) (4.25.0)\n",
      "Requirement already satisfied: kiwisolver>=1.0.1 in c:\\programdata\\anaconda3\\lib\\site-packages (from matplotlib) (1.4.4)\n",
      "Requirement already satisfied: packaging>=20.0 in c:\\programdata\\anaconda3\\lib\\site-packages (from matplotlib) (23.1)\n",
      "Requirement already satisfied: pillow>=6.2.0 in c:\\programdata\\anaconda3\\lib\\site-packages (from matplotlib) (10.0.1)\n",
      "Requirement already satisfied: pyparsing<3.1,>=2.3.1 in c:\\programdata\\anaconda3\\lib\\site-packages (from matplotlib) (3.0.9)\n",
      "Requirement already satisfied: six>=1.5 in c:\\programdata\\anaconda3\\lib\\site-packages (from python-dateutil>=2.8.2->pandas) (1.16.0)\n",
      "Note: you may need to restart the kernel to use updated packages.\n"
     ]
    }
   ],
   "source": [
    "pip install numpy pandas matplotlib seaborn"
   ]
  },
  {
   "cell_type": "code",
   "execution_count": 2,
   "id": "8ee047f1",
   "metadata": {},
   "outputs": [],
   "source": [
    "import pandas as pd"
   ]
  },
  {
   "cell_type": "code",
   "execution_count": 3,
   "id": "45957615",
   "metadata": {},
   "outputs": [],
   "source": [
    "import numpy as np\n",
    "import matplotlib.pyplot as plt\n",
    "import seaborn as sns"
   ]
  },
  {
   "cell_type": "code",
   "execution_count": 4,
   "id": "3a72ca6a",
   "metadata": {},
   "outputs": [],
   "source": [
    "df = pd.read_csv(\"MOCK_DATA.csv\")"
   ]
  },
  {
   "cell_type": "code",
   "execution_count": 5,
   "id": "e6514689",
   "metadata": {},
   "outputs": [
    {
     "data": {
      "text/html": [
       "<div>\n",
       "<style scoped>\n",
       "    .dataframe tbody tr th:only-of-type {\n",
       "        vertical-align: middle;\n",
       "    }\n",
       "\n",
       "    .dataframe tbody tr th {\n",
       "        vertical-align: top;\n",
       "    }\n",
       "\n",
       "    .dataframe thead th {\n",
       "        text-align: right;\n",
       "    }\n",
       "</style>\n",
       "<table border=\"1\" class=\"dataframe\">\n",
       "  <thead>\n",
       "    <tr style=\"text-align: right;\">\n",
       "      <th></th>\n",
       "      <th>bug_id</th>\n",
       "      <th>module</th>\n",
       "      <th>severity</th>\n",
       "      <th>status</th>\n",
       "      <th>reported_date</th>\n",
       "      <th>resolved_date</th>\n",
       "      <th>assigned_to</th>\n",
       "    </tr>\n",
       "  </thead>\n",
       "  <tbody>\n",
       "    <tr>\n",
       "      <th>0</th>\n",
       "      <td>1</td>\n",
       "      <td>Login</td>\n",
       "      <td>High</td>\n",
       "      <td>In Progress</td>\n",
       "      <td>2025-01-04</td>\n",
       "      <td>2025-01-29</td>\n",
       "      <td>David</td>\n",
       "    </tr>\n",
       "    <tr>\n",
       "      <th>1</th>\n",
       "      <td>2</td>\n",
       "      <td>Payment</td>\n",
       "      <td>Critical</td>\n",
       "      <td>In Progress</td>\n",
       "      <td>2025-06-03</td>\n",
       "      <td>2025-06-26</td>\n",
       "      <td>Fred</td>\n",
       "    </tr>\n",
       "    <tr>\n",
       "      <th>2</th>\n",
       "      <td>3</td>\n",
       "      <td>Notifications</td>\n",
       "      <td>High</td>\n",
       "      <td>Closed</td>\n",
       "      <td>2025-01-12</td>\n",
       "      <td>2025-01-13</td>\n",
       "      <td>Charlie</td>\n",
       "    </tr>\n",
       "    <tr>\n",
       "      <th>3</th>\n",
       "      <td>4</td>\n",
       "      <td>Dashboard</td>\n",
       "      <td>Low</td>\n",
       "      <td>In Progress</td>\n",
       "      <td>2024-12-22</td>\n",
       "      <td>2025-01-08</td>\n",
       "      <td>Alice</td>\n",
       "    </tr>\n",
       "    <tr>\n",
       "      <th>4</th>\n",
       "      <td>5</td>\n",
       "      <td>Login</td>\n",
       "      <td>High</td>\n",
       "      <td>Resolved</td>\n",
       "      <td>2024-12-15</td>\n",
       "      <td>2025-01-11</td>\n",
       "      <td>Bob</td>\n",
       "    </tr>\n",
       "  </tbody>\n",
       "</table>\n",
       "</div>"
      ],
      "text/plain": [
       "   bug_id         module  severity       status reported_date resolved_date  \\\n",
       "0       1          Login      High  In Progress    2025-01-04    2025-01-29   \n",
       "1       2        Payment  Critical  In Progress    2025-06-03    2025-06-26   \n",
       "2       3  Notifications      High       Closed    2025-01-12    2025-01-13   \n",
       "3       4      Dashboard       Low  In Progress    2024-12-22    2025-01-08   \n",
       "4       5          Login      High     Resolved    2024-12-15    2025-01-11   \n",
       "\n",
       "  assigned_to  \n",
       "0       David  \n",
       "1        Fred  \n",
       "2     Charlie  \n",
       "3       Alice  \n",
       "4         Bob  "
      ]
     },
     "execution_count": 5,
     "metadata": {},
     "output_type": "execute_result"
    }
   ],
   "source": [
    "df.head()"
   ]
  },
  {
   "cell_type": "code",
   "execution_count": 6,
   "id": "78e6d4c3",
   "metadata": {},
   "outputs": [
    {
     "name": "stdout",
     "output_type": "stream",
     "text": [
      "<class 'pandas.core.frame.DataFrame'>\n",
      "RangeIndex: 300 entries, 0 to 299\n",
      "Data columns (total 7 columns):\n",
      " #   Column         Non-Null Count  Dtype \n",
      "---  ------         --------------  ----- \n",
      " 0   bug_id         300 non-null    int64 \n",
      " 1   module         300 non-null    object\n",
      " 2   severity       300 non-null    object\n",
      " 3   status         300 non-null    object\n",
      " 4   reported_date  300 non-null    object\n",
      " 5   resolved_date  300 non-null    object\n",
      " 6   assigned_to    300 non-null    object\n",
      "dtypes: int64(1), object(6)\n",
      "memory usage: 16.5+ KB\n"
     ]
    }
   ],
   "source": [
    "df.info()"
   ]
  },
  {
   "cell_type": "code",
   "execution_count": 7,
   "id": "81ae3c1b",
   "metadata": {
    "scrolled": true
   },
   "outputs": [
    {
     "data": {
      "text/html": [
       "<div>\n",
       "<style scoped>\n",
       "    .dataframe tbody tr th:only-of-type {\n",
       "        vertical-align: middle;\n",
       "    }\n",
       "\n",
       "    .dataframe tbody tr th {\n",
       "        vertical-align: top;\n",
       "    }\n",
       "\n",
       "    .dataframe thead th {\n",
       "        text-align: right;\n",
       "    }\n",
       "</style>\n",
       "<table border=\"1\" class=\"dataframe\">\n",
       "  <thead>\n",
       "    <tr style=\"text-align: right;\">\n",
       "      <th></th>\n",
       "      <th>bug_id</th>\n",
       "    </tr>\n",
       "  </thead>\n",
       "  <tbody>\n",
       "    <tr>\n",
       "      <th>count</th>\n",
       "      <td>300.000000</td>\n",
       "    </tr>\n",
       "    <tr>\n",
       "      <th>mean</th>\n",
       "      <td>150.500000</td>\n",
       "    </tr>\n",
       "    <tr>\n",
       "      <th>std</th>\n",
       "      <td>86.746758</td>\n",
       "    </tr>\n",
       "    <tr>\n",
       "      <th>min</th>\n",
       "      <td>1.000000</td>\n",
       "    </tr>\n",
       "    <tr>\n",
       "      <th>25%</th>\n",
       "      <td>75.750000</td>\n",
       "    </tr>\n",
       "    <tr>\n",
       "      <th>50%</th>\n",
       "      <td>150.500000</td>\n",
       "    </tr>\n",
       "    <tr>\n",
       "      <th>75%</th>\n",
       "      <td>225.250000</td>\n",
       "    </tr>\n",
       "    <tr>\n",
       "      <th>max</th>\n",
       "      <td>300.000000</td>\n",
       "    </tr>\n",
       "  </tbody>\n",
       "</table>\n",
       "</div>"
      ],
      "text/plain": [
       "           bug_id\n",
       "count  300.000000\n",
       "mean   150.500000\n",
       "std     86.746758\n",
       "min      1.000000\n",
       "25%     75.750000\n",
       "50%    150.500000\n",
       "75%    225.250000\n",
       "max    300.000000"
      ]
     },
     "execution_count": 7,
     "metadata": {},
     "output_type": "execute_result"
    }
   ],
   "source": [
    "df.describe()"
   ]
  },
  {
   "cell_type": "code",
   "execution_count": 8,
   "id": "c3128105",
   "metadata": {},
   "outputs": [
    {
     "name": "stdout",
     "output_type": "stream",
     "text": [
      "0          High\n",
      "1      Critical\n",
      "2          High\n",
      "3           Low\n",
      "4          High\n",
      "         ...   \n",
      "295      Medium\n",
      "296        High\n",
      "297    Critical\n",
      "298      Medium\n",
      "299      Medium\n",
      "Name: severity, Length: 300, dtype: object\n"
     ]
    }
   ],
   "source": [
    "print(df['severity'])"
   ]
  },
  {
   "cell_type": "code",
   "execution_count": 17,
   "id": "049730ef",
   "metadata": {},
   "outputs": [
    {
     "ename": "KeyError",
     "evalue": "False",
     "output_type": "error",
     "traceback": [
      "\u001b[1;31m---------------------------------------------------------------------------\u001b[0m",
      "\u001b[1;31mKeyError\u001b[0m                                  Traceback (most recent call last)",
      "File \u001b[1;32mC:\\ProgramData\\anaconda3\\Lib\\site-packages\\pandas\\core\\indexes\\base.py:3653\u001b[0m, in \u001b[0;36mIndex.get_loc\u001b[1;34m(self, key)\u001b[0m\n\u001b[0;32m   3652\u001b[0m \u001b[38;5;28;01mtry\u001b[39;00m:\n\u001b[1;32m-> 3653\u001b[0m     \u001b[38;5;28;01mreturn\u001b[39;00m \u001b[38;5;28mself\u001b[39m\u001b[38;5;241m.\u001b[39m_engine\u001b[38;5;241m.\u001b[39mget_loc(casted_key)\n\u001b[0;32m   3654\u001b[0m \u001b[38;5;28;01mexcept\u001b[39;00m \u001b[38;5;167;01mKeyError\u001b[39;00m \u001b[38;5;28;01mas\u001b[39;00m err:\n",
      "File \u001b[1;32mC:\\ProgramData\\anaconda3\\Lib\\site-packages\\pandas\\_libs\\index.pyx:147\u001b[0m, in \u001b[0;36mpandas._libs.index.IndexEngine.get_loc\u001b[1;34m()\u001b[0m\n",
      "File \u001b[1;32mC:\\ProgramData\\anaconda3\\Lib\\site-packages\\pandas\\_libs\\index.pyx:176\u001b[0m, in \u001b[0;36mpandas._libs.index.IndexEngine.get_loc\u001b[1;34m()\u001b[0m\n",
      "File \u001b[1;32mpandas\\_libs\\hashtable_class_helper.pxi:7080\u001b[0m, in \u001b[0;36mpandas._libs.hashtable.PyObjectHashTable.get_item\u001b[1;34m()\u001b[0m\n",
      "File \u001b[1;32mpandas\\_libs\\hashtable_class_helper.pxi:7088\u001b[0m, in \u001b[0;36mpandas._libs.hashtable.PyObjectHashTable.get_item\u001b[1;34m()\u001b[0m\n",
      "\u001b[1;31mKeyError\u001b[0m: False",
      "\nThe above exception was the direct cause of the following exception:\n",
      "\u001b[1;31mKeyError\u001b[0m                                  Traceback (most recent call last)",
      "Cell \u001b[1;32mIn[17], line 1\u001b[0m\n\u001b[1;32m----> 1\u001b[0m \u001b[38;5;28mprint\u001b[39m(df[df[[\u001b[38;5;124m'\u001b[39m\u001b[38;5;124mseverity\u001b[39m\u001b[38;5;124m'\u001b[39m]\u001b[38;5;241m==\u001b[39m\u001b[38;5;124m'\u001b[39m\u001b[38;5;124mHigh\u001b[39m\u001b[38;5;124m'\u001b[39m]\u001b[38;5;241m.\u001b[39mvalue_counts()])\n",
      "File \u001b[1;32mC:\\ProgramData\\anaconda3\\Lib\\site-packages\\pandas\\core\\frame.py:3761\u001b[0m, in \u001b[0;36mDataFrame.__getitem__\u001b[1;34m(self, key)\u001b[0m\n\u001b[0;32m   3759\u001b[0m \u001b[38;5;28;01mif\u001b[39;00m \u001b[38;5;28mself\u001b[39m\u001b[38;5;241m.\u001b[39mcolumns\u001b[38;5;241m.\u001b[39mnlevels \u001b[38;5;241m>\u001b[39m \u001b[38;5;241m1\u001b[39m:\n\u001b[0;32m   3760\u001b[0m     \u001b[38;5;28;01mreturn\u001b[39;00m \u001b[38;5;28mself\u001b[39m\u001b[38;5;241m.\u001b[39m_getitem_multilevel(key)\n\u001b[1;32m-> 3761\u001b[0m indexer \u001b[38;5;241m=\u001b[39m \u001b[38;5;28mself\u001b[39m\u001b[38;5;241m.\u001b[39mcolumns\u001b[38;5;241m.\u001b[39mget_loc(key)\n\u001b[0;32m   3762\u001b[0m \u001b[38;5;28;01mif\u001b[39;00m is_integer(indexer):\n\u001b[0;32m   3763\u001b[0m     indexer \u001b[38;5;241m=\u001b[39m [indexer]\n",
      "File \u001b[1;32mC:\\ProgramData\\anaconda3\\Lib\\site-packages\\pandas\\core\\indexes\\base.py:3655\u001b[0m, in \u001b[0;36mIndex.get_loc\u001b[1;34m(self, key)\u001b[0m\n\u001b[0;32m   3653\u001b[0m     \u001b[38;5;28;01mreturn\u001b[39;00m \u001b[38;5;28mself\u001b[39m\u001b[38;5;241m.\u001b[39m_engine\u001b[38;5;241m.\u001b[39mget_loc(casted_key)\n\u001b[0;32m   3654\u001b[0m \u001b[38;5;28;01mexcept\u001b[39;00m \u001b[38;5;167;01mKeyError\u001b[39;00m \u001b[38;5;28;01mas\u001b[39;00m err:\n\u001b[1;32m-> 3655\u001b[0m     \u001b[38;5;28;01mraise\u001b[39;00m \u001b[38;5;167;01mKeyError\u001b[39;00m(key) \u001b[38;5;28;01mfrom\u001b[39;00m \u001b[38;5;21;01merr\u001b[39;00m\n\u001b[0;32m   3656\u001b[0m \u001b[38;5;28;01mexcept\u001b[39;00m \u001b[38;5;167;01mTypeError\u001b[39;00m:\n\u001b[0;32m   3657\u001b[0m     \u001b[38;5;66;03m# If we have a listlike key, _check_indexing_error will raise\u001b[39;00m\n\u001b[0;32m   3658\u001b[0m     \u001b[38;5;66;03m#  InvalidIndexError. Otherwise we fall through and re-raise\u001b[39;00m\n\u001b[0;32m   3659\u001b[0m     \u001b[38;5;66;03m#  the TypeError.\u001b[39;00m\n\u001b[0;32m   3660\u001b[0m     \u001b[38;5;28mself\u001b[39m\u001b[38;5;241m.\u001b[39m_check_indexing_error(key)\n",
      "\u001b[1;31mKeyError\u001b[0m: False"
     ]
    }
   ],
   "source": [
    "print(df[df[['severity']=='High'].value_counts()])"
   ]
  },
  {
   "cell_type": "code",
   "execution_count": 23,
   "id": "6fe2d132",
   "metadata": {},
   "outputs": [
    {
     "name": "stdout",
     "output_type": "stream",
     "text": [
      "module\n",
      "Login            68\n",
      "Dashboard        64\n",
      "Notifications    58\n",
      "Payment          57\n",
      "Reports          53\n",
      "Name: count, dtype: int64\n"
     ]
    }
   ],
   "source": [
    "print(df['module'].value_counts())"
   ]
  },
  {
   "cell_type": "code",
   "execution_count": 11,
   "id": "68ede527",
   "metadata": {},
   "outputs": [
    {
     "name": "stdout",
     "output_type": "stream",
     "text": [
      "assigned_to\n",
      "Alice      54\n",
      "Fred       51\n",
      "Ellie      47\n",
      "Gizel      43\n",
      "David      42\n",
      "Charlie    32\n",
      "Bob        31\n",
      "Name: count, dtype: int64\n"
     ]
    }
   ],
   "source": [
    "print(df['assigned_to'].value_counts())"
   ]
  },
  {
   "cell_type": "code",
   "execution_count": 12,
   "id": "4d7d90be",
   "metadata": {},
   "outputs": [
    {
     "name": "stdout",
     "output_type": "stream",
     "text": [
      "module\n",
      "Login            68\n",
      "Dashboard        64\n",
      "Notifications    58\n",
      "Payment          57\n",
      "Reports          53\n",
      "Name: count, dtype: int64\n"
     ]
    }
   ],
   "source": [
    "print(df['module'].value_counts())"
   ]
  },
  {
   "cell_type": "code",
   "execution_count": 15,
   "id": "d0d61a29",
   "metadata": {},
   "outputs": [],
   "source": [
    "high_bugs = df[df['severity']=='High']"
   ]
  },
  {
   "cell_type": "code",
   "execution_count": 16,
   "id": "3bad6ff1",
   "metadata": {},
   "outputs": [
    {
     "name": "stdout",
     "output_type": "stream",
     "text": [
      "     bug_id         module severity       status reported_date resolved_date  \\\n",
      "0         1          Login     High  In Progress    2025-01-04    2025-01-29   \n",
      "2         3  Notifications     High       Closed    2025-01-12    2025-01-13   \n",
      "4         5          Login     High     Resolved    2024-12-15    2025-01-11   \n",
      "7         8        Reports     High  In Progress    2025-01-09    2025-02-03   \n",
      "11       12  Notifications     High         Open    2025-06-04    2025-06-07   \n",
      "..      ...            ...      ...          ...           ...           ...   \n",
      "285     286      Dashboard     High       Closed    2025-01-25    2025-01-29   \n",
      "287     288        Payment     High  In Progress    2025-07-23    2025-08-19   \n",
      "291     292          Login     High  In Progress    2025-08-22    2025-09-06   \n",
      "294     295        Reports     High     Resolved    2025-01-17    2025-02-15   \n",
      "296     297        Payment     High       Closed    2025-10-04    2025-10-26   \n",
      "\n",
      "    assigned_to  \n",
      "0         David  \n",
      "2       Charlie  \n",
      "4           Bob  \n",
      "7         Gizel  \n",
      "11        Gizel  \n",
      "..          ...  \n",
      "285       Ellie  \n",
      "287       Gizel  \n",
      "291     Charlie  \n",
      "294     Charlie  \n",
      "296         Bob  \n",
      "\n",
      "[74 rows x 7 columns]\n"
     ]
    }
   ],
   "source": [
    "print(high_bugs)"
   ]
  },
  {
   "cell_type": "code",
   "execution_count": 20,
   "id": "a49fa37c",
   "metadata": {},
   "outputs": [
    {
     "name": "stdout",
     "output_type": "stream",
     "text": [
      "     bug_id         module  severity    status reported_date resolved_date  \\\n",
      "296     297        Payment      High    Closed    2025-10-04    2025-10-26   \n",
      "25       26        Payment       Low  Resolved    2025-10-04    2025-10-08   \n",
      "127     128      Dashboard      High  Resolved    2025-10-03    2025-10-10   \n",
      "280     281  Notifications    Medium    Closed    2025-09-30    2025-10-02   \n",
      "97       98  Notifications    Medium  Resolved    2025-09-30    2025-10-09   \n",
      "..      ...            ...       ...       ...           ...           ...   \n",
      "88       89  Notifications  Critical  Resolved    2024-10-14    2024-10-23   \n",
      "65       66      Dashboard  Critical      Open    2024-10-13    2024-10-14   \n",
      "140     141        Payment      High    Closed    2024-10-12    2024-10-28   \n",
      "182     183      Dashboard      High  Resolved    2024-10-07    2024-11-05   \n",
      "70       71        Reports    Medium    Closed    2024-10-06    2024-10-21   \n",
      "\n",
      "    assigned_to  \n",
      "296         Bob  \n",
      "25         Fred  \n",
      "127         Bob  \n",
      "280       Alice  \n",
      "97         Fred  \n",
      "..          ...  \n",
      "88        Alice  \n",
      "65          Bob  \n",
      "140       Ellie  \n",
      "182       Ellie  \n",
      "70         Fred  \n",
      "\n",
      "[300 rows x 7 columns]\n"
     ]
    }
   ],
   "source": [
    "recent_bugs = df.sort_values(by=\"reported_date\", ascending=False)\n",
    "print(recent_bugs)"
   ]
  },
  {
   "cell_type": "code",
   "execution_count": 26,
   "id": "ddd1fbda",
   "metadata": {},
   "outputs": [
    {
     "name": "stdout",
     "output_type": "stream",
     "text": [
      "          module  bug_id\n",
      "0      Dashboard      64\n",
      "1          Login      68\n",
      "2  Notifications      58\n",
      "3        Payment      57\n",
      "4        Reports      53\n"
     ]
    }
   ],
   "source": [
    "bugs_per_module = df.groupby('module')['bug_id'].count().reset_index()\n",
    "print(bugs_per_module)"
   ]
  },
  {
   "cell_type": "code",
   "execution_count": 45,
   "id": "3015329d",
   "metadata": {},
   "outputs": [
    {
     "data": {
      "image/png": "[encoded data removed]",
      "text/plain": [
       "<Figure size 800x500 with 1 Axes>"
      ]
     },
     "metadata": {},
     "output_type": "display_data"
    }
   ],
   "source": [
    "plt.figure(figsize=(8,5))\n",
    "sns.countplot(x='module', data=df, order=df['module'].value_counts().index)\n",
    "plt.xticks(rotation=45)\n",
    "plt.title('Bugs per module')\n",
    "plt.show()"
   ]
  },
  {
   "cell_type": "code",
   "execution_count": null,
   "id": "eece1eb4",
   "metadata": {},
   "outputs": [],
   "source": [
    "help(round)"
   ]
  },
  {
   "cell_type": "code",
   "execution_count": null,
   "id": "1648f5fd",
   "metadata": {},
   "outputs": [],
   "source": []
  }
 ],
 "metadata": {
  "kernelspec": {
   "display_name": "Python 3 (ipykernel)",
   "language": "python",
   "name": "python3"
  },
  "language_info": {
   "codemirror_mode": {
    "name": "ipython",
    "version": 3
   },
   "file_extension": ".py",
   "mimetype": "text/x-python",
   "name": "python",
   "nbconvert_exporter": "python",
   "pygments_lexer": "ipython3",
   "version": "3.11.5"
  }
 },
 "nbformat": 4,
 "nbformat_minor": 5
}
